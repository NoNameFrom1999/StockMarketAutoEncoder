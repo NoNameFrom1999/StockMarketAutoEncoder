{
 "cells": [
  {
   "cell_type": "code",
   "execution_count": 1,
   "metadata": {},
   "outputs": [],
   "source": [
    "import pandas as pd\n",
    "import numpy as np\n",
    "\n",
    "from keras.layers import Dense , Input , Dropout\n",
    "from keras.models import Model\n",
    "from keras.optimizers import Adam"
   ]
  },
  {
   "cell_type": "code",
   "execution_count": 4,
   "metadata": {},
   "outputs": [],
   "source": [
    "# create input and output\n",
    "\n",
    "def PreprocessData(csv_file_name : str , timestep : int):\n",
    "\n",
    "    # load data \n",
    "    data = pd.read_csv(csv_file_name)\n",
    "\n",
    "    # create empty dataframe\n",
    "    selected_data = pd.DataFrame([])\n",
    "\n",
    "    selected_data[\"open\"] = data[\"open\"]\n",
    "    selected_data[\"high\"] = data[\"high\"]\n",
    "    selected_data[\"low\"] = data[\"low\"]\n",
    "    selected_data[\"close\"] = data[\"close\"]\n",
    "\n",
    "    print(selected_data)"
   ]
  },
  {
   "cell_type": "code",
   "execution_count": 5,
   "metadata": {},
   "outputs": [
    {
     "name": "stdout",
     "output_type": "stream",
     "text": [
      "0       1.07312\n",
      "1       1.07301\n",
      "2       1.07308\n",
      "3       1.07294\n",
      "4       1.07302\n",
      "         ...   \n",
      "4994    1.06322\n",
      "4995    1.06312\n",
      "4996    1.06304\n",
      "4997    1.06319\n",
      "4998    1.06335\n",
      "Name: open, Length: 4999, dtype: float64\n"
     ]
    }
   ],
   "source": [
    "PreprocessData(\"_EURUSD_5m.csv\" , 10)"
   ]
  }
 ],
 "metadata": {
  "kernelspec": {
   "display_name": "Python 3",
   "language": "python",
   "name": "python3"
  },
  "language_info": {
   "codemirror_mode": {
    "name": "ipython",
    "version": 3
   },
   "file_extension": ".py",
   "mimetype": "text/x-python",
   "name": "python",
   "nbconvert_exporter": "python",
   "pygments_lexer": "ipython3",
   "version": "3.9.9"
  },
  "orig_nbformat": 4
 },
 "nbformat": 4,
 "nbformat_minor": 2
}
